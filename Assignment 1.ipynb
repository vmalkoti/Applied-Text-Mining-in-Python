{
 "cells": [
  {
   "cell_type": "markdown",
   "metadata": {},
   "source": [
    "---\n",
    "\n",
    "_You are currently looking at **version 1.1** of this notebook. To download notebooks and datafiles, as well as get help on Jupyter notebooks in the Coursera platform, visit the [Jupyter Notebook FAQ](https://www.coursera.org/learn/python-text-mining/resources/d9pwm) course resource._\n",
    "\n",
    "---"
   ]
  },
  {
   "cell_type": "markdown",
   "metadata": {},
   "source": [
    "# Assignment 1\n",
    "\n",
    "In this assignment, you'll be working with messy medical data and using regex to extract relevant infromation from the data. \n",
    "\n",
    "Each line of the `dates.txt` file corresponds to a medical note. Each note has a date that needs to be extracted, but each date is encoded in one of many formats.\n",
    "\n",
    "The goal of this assignment is to correctly identify all of the different date variants encoded in this dataset and to properly normalize and sort the dates. \n",
    "\n",
    "Here is a list of some of the variants you might encounter in this dataset:\n",
    "* 04/20/2009; 04/20/09; 4/20/09; 4/3/09\n",
    "* Mar-20-2009; Mar 20, 2009; March 20, 2009;  Mar. 20, 2009; Mar 20 2009;\n",
    "* 20 Mar 2009; 20 March 2009; 20 Mar. 2009; 20 March, 2009\n",
    "* Mar 20th, 2009; Mar 21st, 2009; Mar 22nd, 2009\n",
    "* Feb 2009; Sep 2009; Oct 2010\n",
    "* 6/2008; 12/2009\n",
    "* 2009; 2010\n",
    "\n",
    "Once you have extracted these date patterns from the text, the next step is to sort them in ascending chronological order accoring to the following rules:\n",
    "* Assume all dates in xx/xx/xx format are mm/dd/yy\n",
    "* Assume all dates where year is encoded in only two digits are years from the 1900's (e.g. 1/5/89 is January 5th, 1989)\n",
    "* If the day is missing (e.g. 9/2009), assume it is the first day of the month (e.g. September 1, 2009).\n",
    "* If the month is missing (e.g. 2010), assume it is the first of January of that year (e.g. January 1, 2010).\n",
    "* Watch out for potential typos as this is a raw, real-life derived dataset.\n",
    "\n",
    "With these rules in mind, find the correct date in each note and return a pandas Series in chronological order of the original Series' indices.\n",
    "\n",
    "For example if the original series was this:\n",
    "\n",
    "    0    1999\n",
    "    1    2010\n",
    "    2    1978\n",
    "    3    2015\n",
    "    4    1985\n",
    "\n",
    "Your function should return this:\n",
    "\n",
    "    0    2\n",
    "    1    4\n",
    "    2    0\n",
    "    3    1\n",
    "    4    3\n",
    "\n",
    "Your score will be calculated using [Kendall's tau](https://en.wikipedia.org/wiki/Kendall_rank_correlation_coefficient), a correlation measure for ordinal data.\n",
    "\n",
    "*This function should return a Series of length 500 and dtype int.*"
   ]
  },
  {
   "cell_type": "code",
   "execution_count": 74,
   "metadata": {},
   "outputs": [
    {
     "output_type": "execute_result",
     "data": {
      "text/plain": "0           03/25/93 Total time of visit (in minutes):\\n\n1                         6/18/85 Primary Care Doctor:\\n\n2      sshe plans to move as of 7/8/71 In-Home Servic...\n3                  7 on 9/27/75 Audit C Score Current:\\n\n4      2/6/96 sleep studyPain Treatment Pain Level (N...\n                             ...                        \n495    1979 Family Psych History: Family History of S...\n496    therapist and friend died in ~2006 Parental/Ca...\n497                         2008 partial thyroidectomy\\n\n498    sPt describes a history of sexual abuse as a c...\n499    . In 1980, patient was living in Naples and de...\nLength: 500, dtype: object"
     },
     "metadata": {},
     "execution_count": 74
    }
   ],
   "source": [
    "import pandas as pd\n",
    "\n",
    "doc = []\n",
    "with open('dates.txt') as file:\n",
    "    for line in file:\n",
    "        doc.append(line)\n",
    "\n",
    "df = pd.Series(doc)\n",
    "df"
   ]
  },
  {
   "cell_type": "code",
   "execution_count": 94,
   "metadata": {
    "collapsed": true,
    "tags": [
     "outputPrepend"
    ]
   },
   "outputs": [
    {
     "output_type": "stream",
     "name": "stdout",
     "text": "0:00 :: 06/12/94 SOS-10 Total Sco\n1984-09-17 00:00:00 :: 9/17/84 Communication wit\n1975-02-28 00:00:00 :: 2/28/75 Other Adult Menta\n1975-11-22 00:00:00 :: sOP WPM - Dr. Romo-psycho\n1991-05-24 00:00:00 :: \"In the context of the pa\nError :: 6/13/92 \n1971-07-11 10:00:00 :: 7/11/71 SOS-10 Total Scor\nError :: 12/26/86 \nError :: 10/11/1987 \n1995-03-14 00:00:00 :: 3/14/95 Primary Care Doct\nError :: 12/01/73 \nError :: 0: 12/5/2010 Audit C Scor\n1982-08-20 10:00:00 :: 08/20/1982 SOS-10 Total S\n1995-07-24 10:00:00 :: 7/24/95 SOS-10 Total Scor\nError :: 8/06/83 \n1992-02-22 10:00:00 :: 02/22/92 SOS-10 Total Sco\n1987-06-28 00:00:00 :: 6/28/87 Impression Streng\nError :: 07/29/1994 CPT code: 9920\nError :: 08/11/78 \n1991-10-29 00:00:00 :: 10/29/91 Communication wi\n1991-07-06 10:00:00 :: 7/6/91 SOS-10 Total Score\n1987-01-21 00:00:00 :: onone as of 1/21/87 Prote\nError :: 24 yo right handed woman \nError :: 7/04/82 \n1989-04-13 00:00:00 :: 4-13-89 Communication wit\nError :: Lithium 0.25 (7/11/77).  \nError :: 4/12/74= affeine / Tobacc\nError :: 09/19/81 \n1979-09-06 00:00:00 :: 9/6/79 Primary Care Docto\n1987-12-05 00:00:00 :: 12/5/87 Total time of vis\n1999-01-05 00:00:00 :: 01/05/1999 [report_end]\n1980-04-22 10:00:00 :: 4/22/80 SOS-10 Total Scor\n1998-10-04 10:00:00 :: 10/04/98 SOS-10 Total Sco\nError :: .Mr. Echeverria described\nError :: . Wile taking additional \n1974-07-07 00:00:00 :: Death of mother; 7/07/197\nError :: 09/14/2000 \n1971-05-18 00:00:00 :: 5/18/71 Total time of vis\n1981-08-09 00:00:00 :: 8/09/1981 Communication w\nError :: 6/05/93 \nError :: )Dilantin (PHENYTOIN) 100\nError :: 12/8/82 Audit C=udit C Sc\nError :: 8/26/89 \nError :: 10/13/95 \n1991-04-19 00:00:00 :: 4/19/91 Communication wit\nError :: .APS - Psychiatry consult\nError :: 9/20/76 \n1990-12-08 11:00:00 :: 12/08/1990 @11 am [report\n1974-04-11 00:00:00 :: 4/11/1974 Chief Complaint\n1986-07-18 10:00:00 :: 7/18/86 SOS-10 Total Scor\n1991-03-31 00:00:00 :: 3/31/91 Communication wit\n1972-05-13 00:00:00 :: 5/13/72 Other Adult Menta\nError :: 011/14/83 Audit C Score C\n1992-08-16 10:00:00 :: 8/16/92 SOS-10 Total Scor\nError :: 10/05/97 \nError :: 07/18/2002 \n1982-09-22 00:00:00 :: 9/22/82 Total time of vis\n1974-02-24 10:00:00 :: 2/24/74 SOS-10 Total Scor\nError :: (2/03/78) TSH-0.90 Activi\nError :: 2/11/2006 \nError :: Pt is a 21 year old, sing\nError :: PET Scan (DPSH 5/04/74): \n2011-07-20 00:00:00 :: 7/20/2011 [report_end]\n1995-06-17 00:00:00 :: 6/17/95 Total time of vis\n1972-06-10 10:00:00 :: 6/10/72 SOS-10 Total Scor\n1982-10-16 00:00:00 :: nPt denied use to me but \nError :: 12/15/92 \n1997-12-08 10:00:00 :: 12/8/97 SOS-10 Total Scor\n1989-04-05 00:00:00 :: 4/05/89 Primary Care Doct\n1987-12-04 10:00:00 :: 12/04/87 SOS-10 Total Sco\nError :: 4 (6/20/77)Audit C Score \n2006-04-27 00:00:00 :: see 4/27/2006 consult not\nError :: 07/17/92 \nError :: 12/22/98 \n1996-10-02 00:00:00 :: 10/02/96 Age:\nError :: 11/05/90 \nError :: 5/04/77 \n1996-02-27 00:00:00 :: 2/27/96 Communication wit\n2044-01-24 20:01:00 :: s The patient is a 44 yea\n2004-09-10 00:00:00 :: .10 Sep 2004 - Intake at \n1982-05-26 00:00:00 :: see above and APS eval of\n2002-06-28 00:00:00 :: Tbooked for intake appoin\n1972-05-06 10:00:00 :: 06 May 1972 SOS-10 Total \n1987-10-25 00:00:00 :: 25 Oct 1987 Total time of\n1996-10-14 10:00:00 :: 14 Oct 1996 SOS-10 Total \nError :: 30 Nov 2007 \n1994-06-28 00:00:00 :: h missed intake office vi\n1981-01-14 10:00:00 :: 14 Jan 1981 SOS-10 Total \n1985-10-10 00:00:00 :: .On 10 Oct 1985 patient b\nError :: 11 February 1985 \nError :: ntake for follow up treat\nError :: s The patient is a 49 yea\n2012-10-21 00:00:00 :: ssee 21 Oct 2012 Schroder\n1995-02-14 00:00:00 :: 14 Feb 1995 Primary Care \n2016-05-30 10:00:00 :: 30 May 2016 SOS-10 Total \n1996-01-22 11:00:00 :: 22 Jan 1996 @ 11 AMCommun\nError :: 14 Oct 1992 \n2003-10-06 00:00:00 :: .On 06 Oct 2003 patient s\n1999-10-18 10:00:00 :: 18 Oct 1999 SOS-10 Total \n2004-11-11 00:00:00 :: 11 Nov 2004 Total time of\nError :: 30 May 2001 \nError :: .On 02 Feb 1978 patient w\n1989-09-09 00:00:00 :: 09 Sep 1989 Primary Care \n1980-03-12 10:00:00 :: 12 March 1980 SOS-10 Tota\n1990-06-22 00:00:00 :: 22 June 1990 Medical Hist\n2015-09-28 00:00:00 :: 28 Sep 2015 Primary Care \n1972-01-13 00:00:00 :: 13 Jan 1972 Primary Care \n1974-03-06 00:00:00 :: 06 Mar 1974 Primary Care \n1974-10-10 00:00:00 :: 10 Oct 1974 Primary Care \n1974-05-26 00:00:00 :: 26 May 1974 Primary Care \n1990-02-10 00:00:00 :: short term partial hospit\n2000-08-23 00:00:00 :: 23 Aug 2000 Primary Care \n2001-05-26 00:00:00 :: .The patient brought hims\n2007-10-21 00:00:00 :: see 21 Oct 2007 Schroder \n2016-10-19 00:00:00 :: 19 Oct 2016 Communication\n1974-03-05 00:00:00 :: dON 05 Mar 1974\n1994-01-29 00:00:00 :: 29 Jan 1994 Primary Care \n1978-10-21 00:00:00 :: see 21 Oct 1978 Schroder \n1975-08-18 20:00:00 :: .On 18 August 1975 patien\nError :: 11 Nov 1996 \n1979-10-01 00:00:00 :: 01 Oct 1979 Primary Care \n1986-10-13 00:00:00 :: .On 13 Oct 1986 patient a\n1995-10-21 00:00:00 :: see 21 Oct 1995 Schroder \nError :: 44 y/o MWF, unemployed De\n1972-10-04 00:00:00 :: 04 Oct 1972 Total time of\nError :: .On 23 Aug 1993 at return\n2006-10-18 00:00:00 :: 18 Oct 2006 Age:\nError :: .On 04 Dec 1988 the patie\n1983-10-21 00:00:00 :: .On 21 Oct 1983 patient w\n2010-05-26 00:00:00 :: see above and APS eval of\nError :: 22 year old single Caucas\n1985-06-15 11:00:00 :: 15 Jun 1985 @ 11 AMCommun\n1982-12-10 00:00:00 :: .On 10 Dec 1982, the firs\n1988-12-09 00:00:00 :: .On 09 Dec 1988 the patie\n1995-08-18 00:00:00 :: 18 August 1995 Primary Ca\nError :: eby 13 June 1974 it appea\n2008-05-26 00:00:00 :: see above and APS eval of\n2002-11-11 10:00:00 :: 11 Nov 2002 SOS-10 Total \n1985-08-17 00:00:00 :: see 17 Aug 1985 eval by D\n2016-10-13 00:00:00 :: 13 Oct 2016 Primary Care \n2008-01-14 00:00:00 :: 14 Jan 2008 Total time of\nError :: 12 March 2004 \n1977-10-21 00:00:00 :: ssee 21 Oct 1977 Schroder\n2000-08-10 00:00:00 :: .By 10 Aug 2000 patient w\n1972-11-30 10:00:00 :: 30 Nov 1972 SOS-10 Total \nError :: 06 May 1993 \nError :: s 22 year old single Cauc\nError :: April 11, 1990 \n2001-05-30 00:00:00 :: MRI May 30, 2001 empty se\nError :: .Feb 18, 1994: made a pho\n1981-02-18 00:00:00 :: Brother died February 18,\n2013-10-11 00:00:00 :: none; but currently has a\n1986-01-24 00:00:00 :: .Came back to US on Jan 2\n1978-07-26 00:00:00 :: July 26, 1978 Total time \n1999-12-23 00:00:00 :: father was depressed inpa\n1989-05-15 10:00:00 :: May 15, 1989 SOS-10 Total\n1995-09-06 00:00:00 :: September 06, 1995 Total \nError :: Mar. 10, 1976 \n1983-01-27 00:00:00 :: .Got back to U.S. Jan 27,\n1990-10-23 00:00:00 :: Queen Hamilton in Bonita \n2004-08-12 00:00:00 :: r August 12 2004 - diagno\n2012-09-01 00:00:00 :: September 01, 2012 Age:\n1983-07-25 00:00:00 :: July 25, 1983 Total time \n1989-08-11 00:00:00 :: August 11, 1989 Total tim\n1992-04-17 00:00:00 :: April 17, 1992 Total time\nError :: EKG July 24, 1999: QTc 49\nError :: July 11, 1997 \nError :: s Gale Youngquist is a 22\nError :: .August 14, 1981- bad rea\n1988-11-11 00:00:00 :: Nov 11, 1988 Total time o\n2011-06-13 00:00:00 :: e June 13, 2011 Suicidal \nError :: May 14, 1989 QTc  467 ms.\n1975-12-14 00:00:00 :: stwin boys born Dec 14 19\n2012-06-25 00:00:00 :: Refilled trazodone. Patie\n1980-10-18 00:00:00 :: Oct 18, 1980 Total time o\n1998-05-15 00:00:00 :: May 15, 1998 Age:\nError :: .She saw a counselor in h\nError :: July 25, 1998 \n1972-06-15 00:00:00 :: June 15, 1972 Family Psyc\n1991-01-07 00:00:00 :: See previous - Parking ga\n2011-09-15 00:00:00 :: September. 15, 2011 Total\n1985-09-20 00:00:00 :: s 20 yo M carries dx of B\n2020-06-28 00:00:00 :: t Allergies Sulfa (Sulfon\n1986-05-12 00:00:00 :: B/R Walnut Ridge. Raised \nError :: 50 yo DWF with a history \n1977-07-28 00:00:00 :: )HTN, hypercholesterolemi\n1990-07-28 00:00:00 :: Dr. Gloria English, who c\n2003-07-28 00:00:00 :: . Patient presents with G\nError :: pOct 2015 - Admitted to G\n1995-05-18 00:00:00 :: Pt does not use marijuana\n1976-02-01 00:00:00 :: safter evicted in Februar\nError :: . History of sleep apnea,\n1978-02-28 00:00:00 :: . In Feb 1978, misdxed wi\nError :: )- Venlafaxine 37.g daily\nError :: sLanguage based learning \nError :: oFather died in Nov 2010.\n2012-09-28 00:00:00 :: tIn Sep 2012 patient retu\nError :: s Mr. Moss is a 27-year-o\n1990-06-28 00:00:00 :: lNovember 1990 - NPCCHx o\n1981-07-28 00:00:00 :: husband's death July 1981\n2020-05-28 00:00:00 :: \"May 1983\"Primary Care Do\nError :: ;Trazodone 50-100 mg QHS,\nError :: /o 3 detoxes (2 for EtOH,\n2020-05-28 00:00:00 :: ) He endorsed the followi\n1998-12-28 00:00:00 :: December 1998 Primary Car\n2020-01-28 00:00:00 :: n Abilify (added to Lexap\n2016-02-28 00:00:00 :: slast use Feb 2016 Sedati\nError :: sApproximately 7 psychiat\n2014-10-02 00:00:00 :: sOne week Memorial Psychi\nError :: IAug 1988: Symmes Hospita\n2015-09-28 00:00:00 :: . Sep 2015- Transferred t\nError :: .  Pt diagnosed in Apr 19\n1979-11-28 00:00:00 :: eLast saw a therapist in \n2000-02-28 00:00:00 :: .Iredell Memorial Hospita\n1986-10-28 00:00:00 :: .  Pt was seen in Luthera\n2002-06-28 00:00:00 :: hHelen Ernst, M.D. last a\n1981-09-28 00:00:00 :: sgoiter--diagnosed in Sep\n2007-06-28 00:00:00 :: ssomething related to hyp\nError :: .  Pt reports h/o difficu\n1999-09-28 00:00:00 :: September 1999 Primary Ca\n1980-10-02 00:00:00 :: .   KEMH - Oct 1980 (Beve\n2009-12-01 00:00:00 :: . Was on lexapro and stra\n2020-07-28 00:00:00 :: passive SI only (most rec\n2006-05-28 00:00:00 :: May, 2006 Primary Care Do\nError :: .Spoke to sister Naomi El\nError :: sShe tries to follow seve\nError :: ) - Zoloft 100 mg daily: \n1985-04-07 00:00:00 :: H, April 1985 Hx of Outpa\n1984-09-25 00:00:00 :: .   Ex-BF 25 yo, plans to\n1986-04-28 00:00:00 :: April 1986 Primary Care D\n2007-04-28 00:00:00 :: e Mr. Oliveira reported a\n1974-09-28 00:00:00 :: SA in September 1974, OD \nError :: .BY Sep 2013 patient call\n1985-07-28 00:00:00 :: s1 admission to Psychiatr\n2004-06-28 00:00:00 :: yAug 2004 - Dr. Tom Ngo a\nError :: s Cathy Bowers is a 50 yo\nError :: AFeb 1977: Symmes Hospita\n1987-01-28 00:00:00 :: .  Alvarado Medical Cente\n1983-06-28 00:00:00 :: sSep 1983 GSW to face (L-\n2013-01-28 00:00:00 :: father died suddenly in J\n2010-03-06 00:00:00 :: .The patient reports onse\n2009-08-28 00:00:00 :: . Inhaled helium - August\n2007-09-28 00:00:00 :: NV fire fighter died Sep \n2011-12-01 00:00:00 :: ostoppepd working s week \n2004-01-28 00:00:00 :: Stopped daily use in Jan \n1995-11-28 00:00:00 :: olanzapine to address man\n2008-09-28 00:00:00 :: The patient reports havin\n1983-02-28 00:00:00 :: February 1983 Primary Car\n1983-03-28 00:00:00 :: sKern Hospital March 1983\n1979-08-02 00:00:00 :: cutting of wrist and thig\nError :: B/R Natchez, GA on a comm\n1993-06-28 00:00:00 :: HH, Janaury 1993\n1974-03-28 00:00:00 :: March 1974 Primary Care D\n1994-01-01 00:00:00 :: .Since January 1994, she \nError :: S/p colectomy in Dec 1992\n2004-11-03 00:00:00 :: Hx of 3 instances that pt\nError :: 7 first psych hospital ap\n2020-03-28 00:00:00 :: past suicidal gestures by\n2000-02-28 00:00:00 :: . The patient was hospita\n2004-05-28 00:00:00 :: May, 2004 Hx of Brain Inj\n2006-07-28 00:00:00 :: invasive ductal carcinoma\n2020-02-28 00:00:00 :: dCelexa: most helpful, ca\nError :: Pt put on a 504 at the be\n2020-10-01 00:00:00 :: eZoloft : dizziness and t\nError :: - Prozac 20 mg daily:  Fe\nError :: .On review of systems, sh\n1978-06-28 00:00:00 :: nLoss of father to cardia\n2007-01-28 00:00:00 :: a Saddle PE January 2007\nError :: rBrookhaven outpatient pr\n2002-05-03 20:11:00 :: 2 cats-3 family house-pla\nError :: . Psychosocial: lives w/ \n2020-01-28 00:00:00 :: ) Paxil (Jan 1978) : seda\n1975-07-28 00:00:00 :: . Other collateral, noted\nError :: 50 yo man with history co\n1999-06-02 00:00:00 :: une, 1999 Audit C Score C\nError :: Mother died October 1991;\n1973-03-04 00:00:00 :: ctopic pregnancy in March\n2020-10-28 00:00:00 :: Hep C and HIV negative, L\n2007-06-28 00:00:00 :: .She has however develope\nError :: . Once off Cymbalta, mood\n1999-04-28 00:00:00 :: yEnd stage renal disease \nError :: s Pt reports long Hx of d\n2000-03-28 00:00:00 :: CLLC and DCF - ended in M\n2020-04-10 00:00:00 :: \"-worked with Uma Dewitt \nError :: Prozac- highest dose 40 m\nError :: )last use in June 1974.Lo\n1997-06-28 00:00:00 :: sNovember 1997 - suicidal\n1986-07-28 00:00:00 :: sAppendectomy in July 198\n1973-02-02 00:00:00 :: Open appendectomy, as a c\nError :: sOcella 0.03-G TABLET Tak\n2007-12-01 00:00:00 :: sWas on lexapro and strat\nError :: ast time received treatme\nError :: Currently on Zoloft, 50 m\n2020-05-28 00:00:00 :: Future-oriented; recent i\n2007-11-28 00:00:00 :: .Nov 2007- Evaluation and\n1976-03-05 00:00:00 :: ethania Hospital March 19\n1998-06-28 00:00:00 :: 6/1998 Primary Care Docto\nError :: s 52 y/o MWM h/o chronic \n1973-10-28 00:00:00 :: 10/1973 Hx of Brain Injur\n2005-09-28 00:00:00 :: 9/2005 Primary Care Docto\nError :: s 03/1980 Positive PPD: t\n2005-12-28 00:00:00 :: 12/2005 Family Psych Hist\n1987-05-28 00:00:00 :: 5/1987 Primary Care Docto\n2004-05-28 00:00:00 :: 5/2004 Primary Care Docto\n1974-08-28 00:00:00 :: A pleasant 28 yo woman wi\n1986-03-28 00:00:00 :: See initial PROMPTCARE ev\n1997-10-28 00:00:00 :: 10/1997 Primary Care Doct\n1993-03-28 00:00:00 :: Deviated septum, 3/1993 A\n1981-03-28 00:00:00 :: 3/1981 Primary Care Docto\nError :: . Patient states that she\n1993-10-28 00:00:00 :: % 10/1993 Echo: LVEF 60%\n1983-01-28 00:00:00 :: .Mother died, 1/1983.\n1994-07-28 00:00:00 :: . GBSG : 7/1994\n2008-12-28 00:00:00 :: 12/2008 Primary Care Doct\n1980-10-28 00:00:00 :: n Abnormal CXR : 10/1980 \n2003-08-28 00:00:00 :: md. metabolic montioring \n1975-12-28 00:00:00 :: 12/1975 Primary Care Doct\n2010-11-28 00:00:00 :: sDr. Yaeger at Jarman Mem\n1997-02-07 00:00:00 :: sCurrently See Jeremiah N\n2014-01-07 00:00:00 :: 1. Metastatic pancreatic \nError :: rtherapy: Patient states \n1986-08-28 00:00:00 :: craniotomy 8/1986 Prior r\n1978-01-28 00:00:00 :: 1/1978 Primary Care Docto\n1975-04-09 00:00:00 :: 4 (9/1975)Patient's thoug\nError :: s Pt is a 73-y.o. MWW wit\n1995-07-05 00:00:00 :: itlaly Hobbs OP med mgmt \nError :: Up until his accident, pa\n2000-11-28 00:00:00 :: weight reduction surgery-\n1973-06-28 00:00:00 :: 06/1973 Primary Care Doct\nError :: 2/1999; 472 ms re QTcPert\nError :: s Pt. is a 59 y.o. woman \nError :: The pt. is a 45 Y/O F who\n2009-08-28 00:00:00 :: 8/2009 Primary Care Docto\n1973-07-28 00:00:00 :: dPer Pt Intake from 7/197\n2014-01-28 00:00:00 :: b fibroid tumor resection\n1975-09-28 00:00:00 :: sOne prior voluntary hosp\n2012-12-28 00:00:00 :: sober since 12/2012 after\n1999-05-28 00:00:00 :: tProblems Transplant of k\n1989-07-28 00:00:00 :: 7/1989 Communication with\n2009-07-28 00:00:00 :: 7/2009 Primary Care Docto\n1998-11-28 00:00:00 :: .  Partner was in Anchor \n1995-03-28 00:00:00 :: see above.   Last cutting\n2009-02-28 00:00:00 :: 2/2009 Primary Care Docto\n1988-08-28 00:00:00 :: 08/1988 Primary Care Doct\n2007-04-28 00:00:00 :: 4/2007 Primary Care Docto\nError :: TSH 0.67 5/2000 Prior EEG\n2012-04-28 00:00:00 :: 4/2012 open heart surgery\n2001-10-28 00:00:00 :: .  Pt described period of\n1977-02-28 00:00:00 :: 2/1977 Primary Care Docto\n2008-08-28 00:00:00 :: 8/2008 Primary Care Docto\n1983-02-28 00:00:00 :: 2/1983 Primary Care Docto\nError :: nstill cries over her las\n1992-01-01 00:00:00 :: tProblems Anxiety : Long \n2008-11-28 00:00:00 :: y Vomiting : likely gerd \nError :: . Depression- Since 12/20\n1974-04-28 00:00:00 :: Dr. Noland-pending 4/1974\n1981-10-28 00:00:00 :: rib resection 10/1981 due\n1986-10-28 00:00:00 :: 10/1986 Primary Care Doct\n1973-03-28 00:00:00 :: History of two suicide at\n1994-12-28 00:00:00 :: 12/1994 Primary Care Doct\n1999-08-28 00:00:00 :: .  8/1999:   Consulted Pe\n2010-10-28 00:00:00 :: e Pace Maker placed 10/20\nError :: denomatous polyp of colon\n2007-01-28 00:00:00 :: . Patient primary concern\nError :: 8/2010 QTc 433 ms.Pertine\n1990-03-28 00:00:00 :: kNotice that in 03/1990, \n2016-11-28 00:00:00 :: 11/2016 Primary Care Doct\n2004-04-28 00:00:00 :: n4/2004 R mastectomy with\n1973-02-28 00:00:00 :: 2/1973 Primary Care Docto\n1987-07-28 00:00:00 :: s1 CSU stay at Donelson H\n2000-08-28 00:00:00 :: tHead trauma-8/2000;s/p t\n1975-08-28 00:00:00 :: ANTIDEPRESSANT TREATMENT \n1977-05-28 00:00:00 :: TSH in 5/1977 okayPertine\nError :: .Patient reports overall \nError :: sChesterfield 9/1984 for \n1973-04-28 00:00:00 :: 4/1973 Primary Care Docto\nError :: Polyarteritis nodosa, pre\n1979-04-28 00:00:00 :: db. routine metabolic mon\n2004-07-28 00:00:00 :: sS/P TAH/BSO : 7/2004 for\nError :: Retired in 11/1984 after \n2016-06-05 00:00:00 :: . monitor pt's depressive\n2007-12-28 00:00:00 :: e12/2007 dx of endocardit\n1982-11-28 00:00:00 :: 11/1982 Primary Care Doct\n1981-06-28 00:00:00 :: 06/1981 Hx of Brain Injur\nError :: CBC, CMP, TSH, EKG: re: Q\nError :: s Pt. is a 76-y.o. WWW wh\n2006-05-28 00:00:00 :: a Endometriosis : dx on l\n1978-10-28 00:00:00 :: 10/1978 Communication wit\n1989-12-28 00:00:00 :: . First Rx'd medication 1\n1974-02-28 00:00:00 :: \"Tapered off Xanax in 2/1\n1986-11-28 00:00:00 :: bObesity : 11/1986 MCC LA\nError :: . 4/1983:  Dr. Tejeda rec\nError :: Since 10/2014: Fatigued, \n1989-06-28 00:00:00 :: 6/1989 Primary Care Docto\n1980-09-28 00:00:00 :: 9/1980 Primary Care Docto\n1992-09-28 00:00:00 :: 9/1992 Primary Care Docto\n2000-09-28 00:00:00 :: s30 days in GA in 9/2000.\n1981-07-28 00:00:00 :: 7/1981 Primary Care Docto\n2008-09-01 00:00:00 :: 9 Queen Maldonado, LICSW \nError :: Raised in Sao Tome by bot\nError :: .Patient currently feels \n2010-05-28 00:00:00 :: 5/2010 Hx of Brain Injury\n2002-08-28 00:00:00 :: r Pneumonia : 8/2002\n1994-01-28 00:00:00 :: 1/1994 Primary Care Docto\n2004-12-28 00:00:00 :: Reports MRI of brain done\nError :: s6 past psychiatric hospi\n1991-07-28 00:00:00 :: 7/1991 Medical History:\n1982-07-28 00:00:00 :: 7/1982 Primary Care Docto\n1984-06-28 00:00:00 :: sHemmorage caused by prob\nError :: sHas been at MYH since hi\n2001-03-28 00:00:00 :: Pt joined Army reserves i\n1982-06-28 00:00:00 :: one sister from whom he i\n1998-06-28 00:00:00 :: sSince 1998. Prior medica\n2012-01-28 00:00:00 :: 1 Ex-smoker : quit 2012\nError :: . Age 16, 1991, frontal i\nError :: sLexapro (1988-now): Good\nError :: s      25 year old engage\n2016-08-28 00:00:00 :: omplications from brain h\nError :: .Age, 19, 1976, playing f\nError :: s1981  Swedish-American H\n2011-06-28 00:00:00 :: aS/P suicide attempt 2011\nError :: Patient has a history of \n2003-06-28 00:00:00 :: Born and raised in Fowler\n1983-06-28 00:00:00 :: y1983 Clinic Hospital, fi\n1999-06-28 00:00:00 :: tProblems Urinary inconti\n2010-06-28 00:00:00 :: .2010 - wife; nightmares \nError :: shx of TBI (1975) ISO MVA\n1972-02-28 00:00:00 :: sPatient reported losing \n2015-06-28 00:00:00 :: TSH okay in 2015 Prior EK\n1989-06-28 00:00:00 :: 1989 Family Psych History\nError :: oEnjoys animals, had a do\nError :: eHistory of small right p\n1996-06-28 00:00:00 :: sIn KEP Psychiatryfor the\n2013-01-28 00:00:00 :: 1. Esophageal cancer, dx:\n1974-06-28 00:00:00 :: y1974 (all)\n1990-06-28 00:00:00 :: h/o restraining order by \n1995-02-28 00:00:00 :: sTexas Medical Center; Ok\n2004-06-28 00:00:00 :: Death of former partner i\nError :: Was \"average\" student.  \"\n1973-06-28 00:00:00 :: Contemplating jumping off\n1992-06-28 00:00:00 :: appendectomy s/p delivery\n1977-06-28 00:00:00 :: tProblems renal cell canc\nError :: ran own business for 35 y\nError :: Lab: B12 969 2007\n2009-08-28 00:00:00 :: )and o in 2009\n1986-06-28 00:00:00 :: .Moved to USA in 1986. Su\n1978-06-28 00:00:00 :: r1978\n2002-06-28 00:00:00 :: . Went to Emerson, in New\n1979-06-28 00:00:00 :: 1979 Family Psych History\n2006-06-28 00:00:00 :: therapist and friend died\n2008-06-28 00:00:00 :: 2008 partial thyroidectom\n2005-06-28 00:00:00 :: sPt describes a history o\n1980-06-28 00:00:00 :: . In 1980, patient was li\n/home/malkoti/anaconda3/lib/python3.7/site-packages/dateutil/parser/_parser.py:1218: UnknownTimezoneWarning: tzname QD identified but not understood.  Pass `tzinfos` argument in order to correctly return a timezone-aware datetime.  In a future version, this will raise an exception.\n  category=UnknownTimezoneWarning)\n"
    },
    {
     "output_type": "execute_result",
     "data": {
      "text/plain": "'6/13/92 CPT Code: 90791'"
     },
     "metadata": {},
     "execution_count": 94
    }
   ],
   "source": [
    "def date_sorter():\n",
    "    \n",
    "    # Your code here\n",
    "    \n",
    "    return # Your answer here\n",
    "\n",
    "\n",
    "import re\n",
    "import dateutil.parser as dparser\n",
    "\n",
    "\n",
    "for line in df:\n",
    "    ln = line.strip()\n",
    "    ln = re.sub('CPT Code.*', '', ln)\n",
    "    ln = re.sub('\\d[a-zA-Z]', '', ln)\n",
    "    try:\n",
    "        dt = dparser.parse(line, fuzzy=True)\n",
    "    except:\n",
    "        dt = 'Error'\n",
    "    print(f'{dt} :: {ln[:25]}')\n",
    "\n",
    "\n",
    "# remove >4 digit number\n",
    "# remove number followed by alphabetic char - 1A\n",
    "\n",
    "\n",
    "\n",
    "df.str.findall(r'(\\d?\\d)[/-](\\d?\\d)[/-](\\d{2,4})')    #mm/dd/yy or mm/dd/yyyy\n",
    "df.str.findall(r'(\\d?\\d )?(Jan|Feb|Mar|Apr|May|Jun|Jul|Aug|Sep|Oct|Nov|Dec)[a-z]* (\\d?\\d)')\n",
    "#df.str.findall(r'\\d.*\\d')\n",
    "\n",
    "\n",
    "\n",
    "# mm/dd/yyyy, mm/dd/yy, m/d/yy, mm/d/yyyy, mm/d/yy, m/dd/yy, m/dd/yyyy, m/d/yy, m/d/yyyy\n",
    "#re.findall(r'(\\d?\\d)?[/-]?(\\d?\\d)[/-](\\d{2,4})', '12/1/2020')  \n",
    "# dd Mon yyyy; dd Mon, yyyy; Mon dd yyyy; Mon dd, yyyy; dd-Mon-yyyy; Mon-dd-yyyy\n",
    "#re.findall(r'(\\d?\\d)?[ -]?(Jan|Feb|Mar|Apr|May|Jun|Jul|Aug|Sep|Oct|Nov|Dec)[a-z\\.]*[ -]?(\\d?\\d)?[a-z]*,?[ -](\\d{2,4})', 'Jan. 01st, 2020')\n",
    "\n",
    "#txt = '19850 01-01-2020 C-1Apple'\n",
    "#re.sub(r'\\d[a-zA-Z]', '', txt)\n",
    "\n",
    "'6/13/92 CPT Code: 90791'\n",
    "\n",
    "\n",
    "#df.sort_values().sort_index()"
   ]
  }
 ],
 "metadata": {
  "coursera": {
   "course_slug": "python-text-mining",
   "graded_item_id": "LvcWI",
   "launcher_item_id": "krne9",
   "part_id": "Mkp1I"
  },
  "kernelspec": {
   "display_name": "Python 3",
   "language": "python",
   "name": "python3"
  },
  "language_info": {
   "codemirror_mode": {
    "name": "ipython",
    "version": 3
   },
   "file_extension": ".py",
   "mimetype": "text/x-python",
   "name": "python",
   "nbconvert_exporter": "python",
   "pygments_lexer": "ipython3",
   "version": "3.7.6-final"
  }
 },
 "nbformat": 4,
 "nbformat_minor": 2
}